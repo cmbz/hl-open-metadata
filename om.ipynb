{
 "cells": [
  {
   "cell_type": "markdown",
   "metadata": {},
   "source": [
    "# Script: Upload Harvard Library Open Metadata Project Data Files"
   ]
  },
  {
   "attachments": {},
   "cell_type": "markdown",
   "metadata": {},
   "source": [
    "## About\n",
    "- **Author:** Ceilyn Boyd, ceilyn_boyd@harvard.edu\n",
    "- **Created:** 2023/02/02\n",
    "- **Last update:** 2023/02/02"
   ]
  },
  {
   "attachments": {},
   "cell_type": "markdown",
   "metadata": {},
   "source": [
    "### Globals"
   ]
  },
  {
   "cell_type": "code",
   "execution_count": null,
   "metadata": {},
   "outputs": [],
   "source": [
    "# path to local util code module\n",
    "g_util_module_path = './'\n",
    "\n",
    "# API variable\n",
    "g_api = None\n",
    "\n",
    "# URL for the dataverse installation (ex: https://demo.dataverse.org)\n",
    "g_dataverse_installation_url='xxxxx'\n",
    "\n",
    "# DOI for the dataset associated with the content\n",
    "# note: create this dataset first, then record its doi\n",
    "# example: doi:10.70122/FK2/XCY3L7\n",
    "g_dataverse_dataset_id_om='xxxxx'\n",
    "\n",
    "# API key for this installation\n",
    "g_dataverse_api_key='xxxxx'\n",
    "\n",
    "# Path for the directory where the data can be found\n",
    "g_data_directory = 'xxxxx'\n",
    "\n",
    "# File containing the list of data files\n",
    "g_datafiles_inventory_csv = 'xxxxx'\n",
    "\n",
    "# Description template for each data file in the list\n",
    "g_data_file_description_template = 'Compressed file containing list of datafiles associated with the Harvard Library Open Metadata Project.'"
   ]
  },
  {
   "attachments": {},
   "cell_type": "markdown",
   "metadata": {},
   "source": [
    "Add local path to Jupyter system path"
   ]
  },
  {
   "cell_type": "code",
   "execution_count": null,
   "metadata": {},
   "outputs": [],
   "source": [
    "import sys\n",
    "if g_util_module_path not in sys.path:\n",
    "    sys.path.append(g_util_module_path)"
   ]
  },
  {
   "attachments": {},
   "cell_type": "markdown",
   "metadata": {},
   "source": [
    "### Modules"
   ]
  },
  {
   "cell_type": "code",
   "execution_count": null,
   "metadata": {},
   "outputs": [],
   "source": [
    "import pandas as pd\n",
    "import pprint\n",
    "import om # local module\n",
    "from pyDataverse.api import NativeApi"
   ]
  },
  {
   "attachments": {},
   "cell_type": "markdown",
   "metadata": {},
   "source": [
    "## Script"
   ]
  },
  {
   "attachments": {},
   "cell_type": "markdown",
   "metadata": {},
   "source": [
    "### Create metadata for Open Metadata datafiles"
   ]
  },
  {
   "cell_type": "code",
   "execution_count": null,
   "metadata": {},
   "outputs": [],
   "source": [
    "# print function documentation\n",
    "print('{}'.format(om.create_datafile_metadata.__doc__))\n",
    "\n",
    "# read the inventory file\n",
    "df = pd.read_csv(g_datafiles_inventory_csv, header=0)\n",
    "\n",
    "metadata_df = om.create_datafile_metadata(df, g_data_file_description_template)\n",
    "\n",
    "display(metadata_df)"
   ]
  },
  {
   "attachments": {},
   "cell_type": "markdown",
   "metadata": {},
   "source": [
    "### Initialize `pyDataverse` API\n"
   ]
  },
  {
   "cell_type": "code",
   "execution_count": null,
   "metadata": {},
   "outputs": [],
   "source": [
    "# Set pyDataverse API adapter\n",
    "g_api = NativeApi(g_dataverse_installation_url, g_dataverse_api_key)\n",
    "\n",
    "# Print results\n",
    "pprint.pprint('{}'.format(g_api))"
   ]
  },
  {
   "attachments": {},
   "cell_type": "markdown",
   "metadata": {},
   "source": [
    "### Upload Open Metadata datafiles to Dataverse installation\n",
    "**Note:** This call uses the direct upload method of depositing datasets which is faster than upload via the Dataverse native API. Make certain that your dataverse is configured to use the `S3 Direct` upload method. "
   ]
  },
  {
   "cell_type": "code",
   "execution_count": null,
   "metadata": {},
   "outputs": [],
   "source": [
    "import importlib\n",
    "importlib.reload(om)\n",
    "\n",
    "status = om.direct_upload_datafiles(g_api, g_dataverse_installation_url, \n",
    "                                    g_dataverse_dataset_id_om, g_data_directory, metadata_df)\n",
    "pprint.pprint(status)"
   ]
  },
  {
   "attachments": {},
   "cell_type": "markdown",
   "metadata": {},
   "source": [
    "### Publish the dataset"
   ]
  },
  {
   "cell_type": "code",
   "execution_count": null,
   "metadata": {},
   "outputs": [],
   "source": [
    "# publish the dataset\n",
    "response = g_api.publish_dataset(g_dataverse_dataset_id_om, release_type='major', auth=True)\n",
    "print(response.json().get('status'))"
   ]
  },
  {
   "attachments": {},
   "cell_type": "markdown",
   "metadata": {},
   "source": [
    "**End script.**"
   ]
  }
 ],
 "metadata": {
  "kernelspec": {
   "display_name": "base",
   "language": "python",
   "name": "python3"
  },
  "language_info": {
   "codemirror_mode": {
    "name": "ipython",
    "version": 3
   },
   "file_extension": ".py",
   "mimetype": "text/x-python",
   "name": "python",
   "nbconvert_exporter": "python",
   "pygments_lexer": "ipython3",
   "version": "3.8.8"
  },
  "orig_nbformat": 4,
  "vscode": {
   "interpreter": {
    "hash": "e80866da39f614c41262712a96c603cec09e65c25ffba1b64ff6a9fa5a13fe2c"
   }
  }
 },
 "nbformat": 4,
 "nbformat_minor": 2
}
